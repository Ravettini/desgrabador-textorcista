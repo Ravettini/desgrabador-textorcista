{
  "cells": [
    {
      "cell_type": "markdown",
      "metadata": {},
      "source": [
        "# API de Transcripción con Whisper en Google Colab\n",
        "\n",
        "Este notebook crea una API pública que tu aplicación puede usar para transcribir audio.\n",
        "\n",
        "## Instrucciones:\n",
        "\n",
        "1. Ejecutar todas las celdas\n",
        "2. Copiar la URL de ngrok que aparece\n",
        "3. Actualizar la URL en tu aplicación de Netlify\n"
      ]
    },
    {
      "cell_type": "code",
      "execution_count": null,
      "metadata": {},
      "outputs": [],
      "source": [
        "# Instalar dependencias\n",
        "!pip install -q openai-whisper flask-ngrok flask flask-cors pyngrok\n"
      ]
    },
    {
      "cell_type": "code",
      "execution_count": null,
      "metadata": {},
      "outputs": [],
      "source": [
        "# Importar librerías\n",
        "import whisper\n",
        "import os\n",
        "from flask import Flask, request, jsonify\n",
        "from flask_cors import CORS\n",
        "from pyngrok import ngrok\n",
        "import tempfile\n",
        "\n",
        "print('✅ Librerías importadas')\n"
      ]
    },
    {
      "cell_type": "code",
      "execution_count": null,
      "metadata": {},
      "outputs": [],
      "source": [
        "# Cargar modelo Whisper\n",
        "print('🔄 Cargando modelo Whisper small...')\n",
        "model = whisper.load_model('small')\n",
        "print('✅ Modelo Whisper cargado')\n"
      ]
    },
    {
      "cell_type": "code",
      "execution_count": null,
      "metadata": {},
      "outputs": [],
      "source": [
        "# Crear API Flask\n",
        "app = Flask(__name__)\n",
        "CORS(app)  # Permitir CORS para todas las rutas\n",
        "\n",
        "@app.route('/api/transcribe', methods=['POST', 'OPTIONS'])\n",
        "def transcribe():\n",
        "    # Manejar CORS preflight\n",
        "    if request.method == 'OPTIONS':\n",
        "        return '', 200\n",
        "    \n",
        "    try:\n",
        "        print('🎵 Recibiendo archivo...')\n",
        "        \n",
        "        # Obtener archivo del request\n",
        "        if 'audio' not in request.files:\n",
        "            return jsonify({'success': False, 'error': 'No se recibió ningún archivo'}), 400\n",
        "        \n",
        "        audio_file = request.files['audio']\n",
        "        print(f'📄 Archivo: {audio_file.filename}')\n",
        "        \n",
        "        # Guardar temporalmente\n",
        "        with tempfile.NamedTemporaryFile(delete=False, suffix='.mp3') as tmp_file:\n",
        "            audio_file.save(tmp_file.name)\n",
        "            temp_path = tmp_file.name\n",
        "        \n",
        "        print('🤖 Transcribiendo con Whisper...')\n",
        "        \n",
        "        # Transcribir\n",
        "        result = model.transcribe(temp_path, language='es')\n",
        "        \n",
        "        # Limpiar archivo temporal\n",
        "        os.unlink(temp_path)\n",
        "        \n",
        "        print('✅ Transcripción completada')\n",
        "        \n",
        "        return jsonify({\n",
        "            'success': True,\n",
        "            'text': result['text'],\n",
        "            'duration': None,\n",
        "            'size': None\n",
        "        })\n",
        "        \n",
        "    except Exception as e:\n",
        "        print(f'❌ Error: {str(e)}')\n",
        "        return jsonify({'success': False, 'error': str(e)}), 500\n",
        "\n",
        "@app.route('/health', methods=['GET'])\n",
        "def health():\n",
        "    return jsonify({'status': 'OK', 'message': 'API de transcripción funcionando'})\n",
        "\n",
        "print('✅ API Flask creada')\n"
      ]
    },
    {
      "cell_type": "code",
      "execution_count": null,
      "metadata": {},
      "outputs": [],
      "source": [
        "# Iniciar servidor con ngrok\n",
        "print('🚀 Iniciando servidor Flask...')\n",
        "print('📡 Creando túnel público con ngrok...')\n",
        "\n",
        "# Crear túnel público\n",
        "public_url = ngrok.connect(5000)\n",
        "print(f'\\n🔗 URL PÚBLICA: {public_url}')\n",
        "print(f'📋 Copia esta URL y actualiza tu aplicación')\n",
        "print(f'🎯 Endpoint completo: {public_url}/api/transcribe\\n')\n",
        "\n",
        "# Iniciar servidor\n",
        "app.run(port=5000)\n"
      ]
    }
  ],
  "metadata": {
    "language_info": {
      "name": "python"
    }
  },
  "nbformat": 4,
  "nbformat_minor": 2
}
